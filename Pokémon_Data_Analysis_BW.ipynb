{
  "nbformat": 4,
  "nbformat_minor": 0,
  "metadata": {
    "kernelspec": {
      "display_name": "Python 3",
      "language": "python",
      "name": "python3"
    },
    "language_info": {
      "codemirror_mode": {
        "name": "ipython",
        "version": 3
      },
      "file_extension": ".py",
      "mimetype": "text/x-python",
      "name": "python",
      "nbconvert_exporter": "python",
      "pygments_lexer": "ipython3",
      "version": "3.7.6"
    },
    "colab": {
      "name": "Pokémon Data Analysis BW.ipynb",
      "provenance": [],
      "collapsed_sections": []
    }
  },
  "cells": [
    {
      "cell_type": "code",
      "metadata": {
        "colab": {
          "base_uri": "https://localhost:8080/"
        },
        "id": "1AfC2QqDg6V2",
        "outputId": "51dcae1f-c937-4009-d2bf-541c1f1d2aed"
      },
      "source": [
        "from google.colab import drive\n",
        "drive.mount('/content/drive')"
      ],
      "execution_count": 1,
      "outputs": [
        {
          "output_type": "stream",
          "name": "stdout",
          "text": [
            "Mounted at /content/drive\n"
          ]
        }
      ]
    },
    {
      "cell_type": "code",
      "metadata": {
        "id": "z_kgq6VtgyHp",
        "colab": {
          "base_uri": "https://localhost:8080/"
        },
        "outputId": "78d35faf-b604-46c7-b5d1-9a5bd0ebcb48"
      },
      "source": [
        "### IMPORT STATEMENTS ###\n",
        "\n",
        "import pandas as pd\n",
        "from sklearn.pipeline import make_pipeline\n",
        "from sklearn.impute import SimpleImputer\n",
        "from sklearn.ensemble import RandomForestRegressor\n",
        "from sklearn.linear_model import Ridge\n",
        "from sklearn.preprocessing import StandardScaler\n",
        "from sklearn.metrics import classification_report, mean_absolute_error\n",
        "from sklearn.model_selection import train_test_split\n",
        "import matplotlib.pyplot as plt\n",
        "from matplotlib.pyplot import figure\n",
        "!pip install category_encoders==2.*\n",
        "from category_encoders import OrdinalEncoder, OneHotEncoder"
      ],
      "execution_count": 2,
      "outputs": [
        {
          "output_type": "stream",
          "name": "stdout",
          "text": [
            "Collecting category_encoders==2.*\n",
            "  Downloading category_encoders-2.3.0-py2.py3-none-any.whl (82 kB)\n",
            "\u001b[?25l\r\u001b[K     |████                            | 10 kB 22.8 MB/s eta 0:00:01\r\u001b[K     |████████                        | 20 kB 29.7 MB/s eta 0:00:01\r\u001b[K     |████████████                    | 30 kB 16.4 MB/s eta 0:00:01\r\u001b[K     |████████████████                | 40 kB 11.8 MB/s eta 0:00:01\r\u001b[K     |████████████████████            | 51 kB 5.4 MB/s eta 0:00:01\r\u001b[K     |████████████████████████        | 61 kB 5.5 MB/s eta 0:00:01\r\u001b[K     |████████████████████████████    | 71 kB 5.3 MB/s eta 0:00:01\r\u001b[K     |███████████████████████████████▉| 81 kB 5.9 MB/s eta 0:00:01\r\u001b[K     |████████████████████████████████| 82 kB 350 kB/s \n",
            "\u001b[?25hRequirement already satisfied: numpy>=1.14.0 in /usr/local/lib/python3.7/dist-packages (from category_encoders==2.*) (1.19.5)\n",
            "Requirement already satisfied: statsmodels>=0.9.0 in /usr/local/lib/python3.7/dist-packages (from category_encoders==2.*) (0.10.2)\n",
            "Requirement already satisfied: pandas>=0.21.1 in /usr/local/lib/python3.7/dist-packages (from category_encoders==2.*) (1.1.5)\n",
            "Requirement already satisfied: scikit-learn>=0.20.0 in /usr/local/lib/python3.7/dist-packages (from category_encoders==2.*) (0.22.2.post1)\n",
            "Requirement already satisfied: scipy>=1.0.0 in /usr/local/lib/python3.7/dist-packages (from category_encoders==2.*) (1.4.1)\n",
            "Requirement already satisfied: patsy>=0.5.1 in /usr/local/lib/python3.7/dist-packages (from category_encoders==2.*) (0.5.2)\n",
            "Requirement already satisfied: python-dateutil>=2.7.3 in /usr/local/lib/python3.7/dist-packages (from pandas>=0.21.1->category_encoders==2.*) (2.8.2)\n",
            "Requirement already satisfied: pytz>=2017.2 in /usr/local/lib/python3.7/dist-packages (from pandas>=0.21.1->category_encoders==2.*) (2018.9)\n",
            "Requirement already satisfied: six in /usr/local/lib/python3.7/dist-packages (from patsy>=0.5.1->category_encoders==2.*) (1.15.0)\n",
            "Requirement already satisfied: joblib>=0.11 in /usr/local/lib/python3.7/dist-packages (from scikit-learn>=0.20.0->category_encoders==2.*) (1.0.1)\n",
            "Installing collected packages: category-encoders\n",
            "Successfully installed category-encoders-2.3.0\n"
          ]
        },
        {
          "output_type": "stream",
          "name": "stderr",
          "text": [
            "/usr/local/lib/python3.7/dist-packages/statsmodels/tools/_testing.py:19: FutureWarning: pandas.util.testing is deprecated. Use the functions in the public API at pandas.testing instead.\n",
            "  import pandas.util.testing as tm\n"
          ]
        }
      ]
    },
    {
      "cell_type": "markdown",
      "metadata": {
        "id": "o2cpWMXTtcPG"
      },
      "source": [
        "## Data Wrangling"
      ]
    },
    {
      "cell_type": "markdown",
      "metadata": {
        "id": "BzDhxbvozjsT"
      },
      "source": [
        "The first hurdle to analyzing any data is putting it into a usable form. I am going to do some minor tweaks and readjustments of the dataset to clean it up to my liking."
      ]
    },
    {
      "cell_type": "code",
      "metadata": {
        "id": "RClUkmMztfYu"
      },
      "source": [
        "def wrangle(filepath):\n",
        "  df = pd.read_csv(filepath, index_col='Num')\n",
        "\n",
        "  #remove null values from Type2 col\n",
        "  df['Type2'] = df['Type2'].fillna(value=df['Type1'])\n",
        "\n",
        "  #add new features\n",
        "  df['Power'] = df['HP'] + df['Attack'] + df['Defense'] + df['SpAtk'] + df['SpDef'] + df['Speed']\n",
        "\n",
        "  \n",
        "\n",
        "  return df"
      ],
      "execution_count": 3,
      "outputs": []
    },
    {
      "cell_type": "code",
      "metadata": {
        "id": "rvmf6jqIhjqg"
      },
      "source": [
        "df = wrangle('/content/drive/MyDrive/PokemonData.csv')\n"
      ],
      "execution_count": 4,
      "outputs": []
    },
    {
      "cell_type": "code",
      "metadata": {
        "colab": {
          "base_uri": "https://localhost:8080/",
          "height": 238
        },
        "id": "znLVAPSjixt3",
        "outputId": "76074d62-e41c-446f-e91d-b0a46ddf52d8"
      },
      "source": [
        "df.head()"
      ],
      "execution_count": 5,
      "outputs": [
        {
          "output_type": "execute_result",
          "data": {
            "text/html": [
              "<div>\n",
              "<style scoped>\n",
              "    .dataframe tbody tr th:only-of-type {\n",
              "        vertical-align: middle;\n",
              "    }\n",
              "\n",
              "    .dataframe tbody tr th {\n",
              "        vertical-align: top;\n",
              "    }\n",
              "\n",
              "    .dataframe thead th {\n",
              "        text-align: right;\n",
              "    }\n",
              "</style>\n",
              "<table border=\"1\" class=\"dataframe\">\n",
              "  <thead>\n",
              "    <tr style=\"text-align: right;\">\n",
              "      <th></th>\n",
              "      <th>Name</th>\n",
              "      <th>Type1</th>\n",
              "      <th>Type2</th>\n",
              "      <th>HP</th>\n",
              "      <th>Attack</th>\n",
              "      <th>Defense</th>\n",
              "      <th>SpAtk</th>\n",
              "      <th>SpDef</th>\n",
              "      <th>Speed</th>\n",
              "      <th>Generation</th>\n",
              "      <th>Legendary</th>\n",
              "      <th>Power</th>\n",
              "    </tr>\n",
              "    <tr>\n",
              "      <th>Num</th>\n",
              "      <th></th>\n",
              "      <th></th>\n",
              "      <th></th>\n",
              "      <th></th>\n",
              "      <th></th>\n",
              "      <th></th>\n",
              "      <th></th>\n",
              "      <th></th>\n",
              "      <th></th>\n",
              "      <th></th>\n",
              "      <th></th>\n",
              "      <th></th>\n",
              "    </tr>\n",
              "  </thead>\n",
              "  <tbody>\n",
              "    <tr>\n",
              "      <th>1</th>\n",
              "      <td>Bulbasaur</td>\n",
              "      <td>Grass</td>\n",
              "      <td>Poison</td>\n",
              "      <td>45</td>\n",
              "      <td>49</td>\n",
              "      <td>49</td>\n",
              "      <td>65</td>\n",
              "      <td>65</td>\n",
              "      <td>45</td>\n",
              "      <td>1</td>\n",
              "      <td>False</td>\n",
              "      <td>318</td>\n",
              "    </tr>\n",
              "    <tr>\n",
              "      <th>2</th>\n",
              "      <td>Ivysaur</td>\n",
              "      <td>Grass</td>\n",
              "      <td>Poison</td>\n",
              "      <td>60</td>\n",
              "      <td>62</td>\n",
              "      <td>63</td>\n",
              "      <td>80</td>\n",
              "      <td>80</td>\n",
              "      <td>60</td>\n",
              "      <td>1</td>\n",
              "      <td>False</td>\n",
              "      <td>405</td>\n",
              "    </tr>\n",
              "    <tr>\n",
              "      <th>3</th>\n",
              "      <td>Venusaur</td>\n",
              "      <td>Grass</td>\n",
              "      <td>Poison</td>\n",
              "      <td>80</td>\n",
              "      <td>82</td>\n",
              "      <td>83</td>\n",
              "      <td>100</td>\n",
              "      <td>100</td>\n",
              "      <td>80</td>\n",
              "      <td>1</td>\n",
              "      <td>False</td>\n",
              "      <td>525</td>\n",
              "    </tr>\n",
              "    <tr>\n",
              "      <th>3</th>\n",
              "      <td>VenusaurMega Venusaur</td>\n",
              "      <td>Grass</td>\n",
              "      <td>Poison</td>\n",
              "      <td>80</td>\n",
              "      <td>100</td>\n",
              "      <td>123</td>\n",
              "      <td>122</td>\n",
              "      <td>120</td>\n",
              "      <td>80</td>\n",
              "      <td>1</td>\n",
              "      <td>False</td>\n",
              "      <td>625</td>\n",
              "    </tr>\n",
              "    <tr>\n",
              "      <th>4</th>\n",
              "      <td>Charmander</td>\n",
              "      <td>Fire</td>\n",
              "      <td>Fire</td>\n",
              "      <td>39</td>\n",
              "      <td>52</td>\n",
              "      <td>43</td>\n",
              "      <td>60</td>\n",
              "      <td>50</td>\n",
              "      <td>65</td>\n",
              "      <td>1</td>\n",
              "      <td>False</td>\n",
              "      <td>309</td>\n",
              "    </tr>\n",
              "  </tbody>\n",
              "</table>\n",
              "</div>"
            ],
            "text/plain": [
              "                      Name  Type1   Type2  ...  Generation  Legendary  Power\n",
              "Num                                        ...                              \n",
              "1                Bulbasaur  Grass  Poison  ...           1      False    318\n",
              "2                  Ivysaur  Grass  Poison  ...           1      False    405\n",
              "3                 Venusaur  Grass  Poison  ...           1      False    525\n",
              "3    VenusaurMega Venusaur  Grass  Poison  ...           1      False    625\n",
              "4               Charmander   Fire    Fire  ...           1      False    309\n",
              "\n",
              "[5 rows x 12 columns]"
            ]
          },
          "metadata": {},
          "execution_count": 5
        }
      ]
    },
    {
      "cell_type": "markdown",
      "metadata": {
        "id": "107gsyoAi6DB"
      },
      "source": [
        "## Selecting a Target Variable\n",
        "After reading in and looking at my DataFrame, I saw that the variable I wanted to test on did not exist, so I will have to create it. I want my target variable to be the Pokémon's total power, the sum of all of its battle traits. To do this, I will create a new feature in the DataFrame that is the sum of the 'HP', 'Attack', 'Defense', 'SpAtk', 'SpDef', and 'Speed' columns. \n",
        "\n",
        "Of course, my model will be able to very accurately predict a Pokémon's power by its other stats, given that power is literally just a sum of the other stats, so I will have to remove the other stats from my feature matrix in order to avoid data leakage."
      ]
    },
    {
      "cell_type": "markdown",
      "metadata": {
        "id": "K2L4hBqImuav"
      },
      "source": [
        "## Regression or Classification?\n",
        "Because the target variable, the sum of the Pokémon's attribute values, is quantitative, I'll use a regression model. Since I will be one-hot encoding my variables, I will use a Ridge regression model to help curb overfitting."
      ]
    },
    {
      "cell_type": "markdown",
      "metadata": {
        "id": "M7pL8-JpZ1ua"
      },
      "source": [
        "## Distribution\n"
      ]
    },
    {
      "cell_type": "code",
      "metadata": {
        "colab": {
          "base_uri": "https://localhost:8080/",
          "height": 391
        },
        "id": "Bg2TH7r7Z7V9",
        "outputId": "37de2606-4406-400b-83e5-b1de085b3142"
      },
      "source": [
        "plt.figure(figsize=(14, 6))\n",
        "plt.scatter(df['Type1'], df['Power'])\n",
        "\n"
      ],
      "execution_count": 12,
      "outputs": [
        {
          "output_type": "execute_result",
          "data": {
            "text/plain": [
              "<matplotlib.collections.PathCollection at 0x7f3b150e7f50>"
            ]
          },
          "metadata": {},
          "execution_count": 12
        },
        {
          "output_type": "display_data",
          "data": {
            "image/png": "[encoded data removed]",
            "text/plain": [
              "<Figure size 1008x432 with 1 Axes>"
            ]
          },
          "metadata": {
            "needs_background": "light"
          }
        }
      ]
    },
    {
      "cell_type": "markdown",
      "metadata": {
        "id": "j_Bnkz_ebDeT"
      },
      "source": [
        "After checking the Power distribution for the Type1 and Type2 columns, they both appear to be evenly distributed. My original plan of trying to estimate a Pokémon's power based on its type may not be very effective, but it will be interesting to see what we can discover."
      ]
    },
    {
      "cell_type": "markdown",
      "metadata": {
        "id": "RvJJxqJbbhsJ"
      },
      "source": [
        "## Metrics and Baseline\n",
        "I am the most familiar with using the Mean Absolute Error, so I will be using that to judge my model's performance."
      ]
    },
    {
      "cell_type": "code",
      "metadata": {
        "colab": {
          "base_uri": "https://localhost:8080/"
        },
        "id": "yXhUb7l4b3MC",
        "outputId": "f560302f-896c-48b7-b662-e86ad7041817"
      },
      "source": [
        "X = df[['Type1', 'Type2', 'Generation', 'Legendary']]\n",
        "y = df['Power']\n",
        "y_pred = [df['Power'].mean()] * len(y)\n",
        "\n",
        "baseline_mae = mean_absolute_error(y, y_pred)\n",
        "print('Baseline MAE:', baseline_mae)"
      ],
      "execution_count": 16,
      "outputs": [
        {
          "output_type": "stream",
          "name": "stdout",
          "text": [
            "Baseline MAE: 100.26564375\n"
          ]
        }
      ]
    },
    {
      "cell_type": "markdown",
      "metadata": {
        "id": "RW9xvExE2j0O"
      },
      "source": [
        "I can see that my baseline isn't great. Being off by an average of 100 points when most of the values are in the 300-400 point range isn't ideal, but at least it means my model won't have to be particularly mindblowing to beat the baseline."
      ]
    },
    {
      "cell_type": "markdown",
      "metadata": {
        "id": "x_H-UOA0dc8v"
      },
      "source": [
        "## Splitting the Data\n",
        "I'm going to use a randomized train-test split just in case there's a difference between the power of Pokémon released in newer generations versus older ones. I thought about excluding Legendary Pokémon from the pool, but decided to leave them in because on the whole, they're not actually much stronger than some fully-evolved Pokémon. Thus, I am comfortable in knowing that they will not skew my data too much."
      ]
    },
    {
      "cell_type": "code",
      "metadata": {
        "id": "WXxS2gRQgYyy"
      },
      "source": [
        "X_train, X_test, y_train, y_test = train_test_split(X, y, test_size=.2)\n"
      ],
      "execution_count": 17,
      "outputs": []
    },
    {
      "cell_type": "markdown",
      "metadata": {
        "id": "f8jLNp2Rinrx"
      },
      "source": [
        "## Building the Model"
      ]
    },
    {
      "cell_type": "code",
      "metadata": {
        "colab": {
          "base_uri": "https://localhost:8080/"
        },
        "id": "MszfPrZBivgf",
        "outputId": "df2fab24-6d64-4429-929e-eb1e5c7e199c"
      },
      "source": [
        "model_r = make_pipeline(OneHotEncoder(),\n",
        "                         SimpleImputer(),\n",
        "                         Ridge())\n",
        "                         \n",
        "    \n",
        "    \n",
        "\n",
        "model_r.fit(X_train, y_train)"
      ],
      "execution_count": 19,
      "outputs": [
        {
          "output_type": "execute_result",
          "data": {
            "text/plain": [
              "Pipeline(memory=None,\n",
              "         steps=[('onehotencoder',\n",
              "                 OneHotEncoder(cols=['Type1', 'Type2'], drop_invariant=False,\n",
              "                               handle_missing='value', handle_unknown='value',\n",
              "                               return_df=True, use_cat_names=False,\n",
              "                               verbose=0)),\n",
              "                ('simpleimputer',\n",
              "                 SimpleImputer(add_indicator=False, copy=True, fill_value=None,\n",
              "                               missing_values=nan, strategy='mean',\n",
              "                               verbose=0)),\n",
              "                ('ridge',\n",
              "                 Ridge(alpha=1.0, copy_X=True, fit_intercept=True,\n",
              "                       max_iter=None, normalize=False, random_state=None,\n",
              "                       solver='auto', tol=0.001))],\n",
              "         verbose=False)"
            ]
          },
          "metadata": {},
          "execution_count": 19
        }
      ]
    },
    {
      "cell_type": "code",
      "metadata": {
        "colab": {
          "base_uri": "https://localhost:8080/"
        },
        "id": "0rLc290Fmc1H",
        "outputId": "2d62c52a-312c-46a0-d3aa-c32533a80f36"
      },
      "source": [
        "model_r_mae = mean_absolute_error(y_test, model_r.predict(X_test))\n",
        "print('Ridge Regression Model MAE:', model_r_mae)"
      ],
      "execution_count": 22,
      "outputs": [
        {
          "output_type": "stream",
          "name": "stdout",
          "text": [
            "Ridge Regression Model MAE: 89.36293962229914\n"
          ]
        }
      ]
    },
    {
      "cell_type": "markdown",
      "metadata": {
        "id": "Gahx92LRm1p5"
      },
      "source": [
        "##Awesome!\n",
        "It looks like my regression model beats my baseline score by around 11 points, which sounds great until you remember that the baseline score is literally just guessing... let's see what a tree-based model can do for us."
      ]
    },
    {
      "cell_type": "code",
      "metadata": {
        "colab": {
          "base_uri": "https://localhost:8080/"
        },
        "id": "CARp3nRB4uLA",
        "outputId": "fc23c537-4ac0-4eac-f5c7-0e83401e2535"
      },
      "source": [
        "model_rf = make_pipeline(OrdinalEncoder(),\n",
        "                         SimpleImputer(),\n",
        "                         RandomForestRegressor())\n",
        "model_rf.fit(X_train, y_train)"
      ],
      "execution_count": 23,
      "outputs": [
        {
          "output_type": "execute_result",
          "data": {
            "text/plain": [
              "Pipeline(memory=None,\n",
              "         steps=[('ordinalencoder',\n",
              "                 OrdinalEncoder(cols=['Type1', 'Type2'], drop_invariant=False,\n",
              "                                handle_missing='value', handle_unknown='value',\n",
              "                                mapping=[{'col': 'Type1',\n",
              "                                          'data_type': dtype('O'),\n",
              "                                          'mapping': Ground       1\n",
              "Psychic      2\n",
              "Fighting     3\n",
              "Ice          4\n",
              "Bug          5\n",
              "Rock         6\n",
              "Fire         7\n",
              "Steel        8\n",
              "Poison       9\n",
              "Normal      10\n",
              "Dark        11\n",
              "Ghost       12\n",
              "Water       13\n",
              "Grass       14\n",
              "Electric    15\n",
              "Dragon      16\n",
              "Fairy       17\n",
              "Flying      18\n",
              "NaN         -2\n",
              "dtype: int64},\n",
              "                                         {...\n",
              "                 RandomForestRegressor(bootstrap=True, ccp_alpha=0.0,\n",
              "                                       criterion='mse', max_depth=None,\n",
              "                                       max_features='auto', max_leaf_nodes=None,\n",
              "                                       max_samples=None,\n",
              "                                       min_impurity_decrease=0.0,\n",
              "                                       min_impurity_split=None,\n",
              "                                       min_samples_leaf=1, min_samples_split=2,\n",
              "                                       min_weight_fraction_leaf=0.0,\n",
              "                                       n_estimators=100, n_jobs=None,\n",
              "                                       oob_score=False, random_state=None,\n",
              "                                       verbose=0, warm_start=False))],\n",
              "         verbose=False)"
            ]
          },
          "metadata": {},
          "execution_count": 23
        }
      ]
    },
    {
      "cell_type": "code",
      "metadata": {
        "colab": {
          "base_uri": "https://localhost:8080/"
        },
        "id": "mbjyaa3z5QR6",
        "outputId": "6be6d318-0257-44a0-d492-82c1cb5285cd"
      },
      "source": [
        "model_rf_mae = mean_absolute_error(y_test, model_rf.predict(X_test))\n",
        "print('Random Forest Regression Model MAE:', model_rf_mae)"
      ],
      "execution_count": 24,
      "outputs": [
        {
          "output_type": "stream",
          "name": "stdout",
          "text": [
            "Random Forest Regression Model MAE: 97.21765799959613\n"
          ]
        }
      ]
    },
    {
      "cell_type": "markdown",
      "metadata": {
        "id": "xocHbxLk5fIB"
      },
      "source": [
        "Somehow my tree-based model did worse than the Ridge regression model, which was really a surprise for me. I will be doing some more tuning on the Ridge model to see if I can get it to be more accurate."
      ]
    }
  ]
}